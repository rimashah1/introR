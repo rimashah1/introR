{
  "cells": [
    {
      "cell_type": "markdown",
      "metadata": {
        "id": "view-in-github",
        "colab_type": "text"
      },
      "source": [
        "<a href=\"https://colab.research.google.com/github/rimashah1/introR/blob/main/bookbrown.ipynb\" target=\"_parent\"><img src=\"https://colab.research.google.com/assets/colab-badge.svg\" alt=\"Open In Colab\"/></a>"
      ]
    },
    {
      "cell_type": "code",
      "execution_count": 1,
      "metadata": {
        "colab": {
          "base_uri": "https://localhost:8080/"
        },
        "id": "hJkJtLzHtfPh",
        "outputId": "ff1de03d-4e87-4b31-b6d7-a4b91eb409ea"
      },
      "outputs": [
        {
          "output_type": "stream",
          "name": "stdout",
          "text": [
            "Looking in indexes: https://pypi.org/simple, https://us-python.pkg.dev/colab-wheels/public/simple/\n",
            "Requirement already satisfied: rpy2 in /usr/local/lib/python3.7/dist-packages (3.4.5)\n",
            "Requirement already satisfied: jinja2 in /usr/local/lib/python3.7/dist-packages (from rpy2) (2.11.3)\n",
            "Requirement already satisfied: tzlocal in /usr/local/lib/python3.7/dist-packages (from rpy2) (1.5.1)\n",
            "Requirement already satisfied: cffi>=1.10.0 in /usr/local/lib/python3.7/dist-packages (from rpy2) (1.15.1)\n",
            "Requirement already satisfied: pytz in /usr/local/lib/python3.7/dist-packages (from rpy2) (2022.5)\n",
            "Requirement already satisfied: pycparser in /usr/local/lib/python3.7/dist-packages (from cffi>=1.10.0->rpy2) (2.21)\n",
            "Requirement already satisfied: MarkupSafe>=0.23 in /usr/local/lib/python3.7/dist-packages (from jinja2->rpy2) (2.0.1)\n"
          ]
        }
      ],
      "source": [
        "pip install rpy2\n"
      ]
    },
    {
      "cell_type": "code",
      "execution_count": 2,
      "metadata": {
        "id": "oahg-xRWuf31"
      },
      "outputs": [],
      "source": [
        "%load_ext rpy2.ipython"
      ]
    },
    {
      "cell_type": "markdown",
      "metadata": {
        "id": "cttuLiZAv9Go"
      },
      "source": [
        "1.3.1 Variables"
      ]
    },
    {
      "cell_type": "code",
      "execution_count": 3,
      "metadata": {
        "id": "Dp6RplYgwAjg"
      },
      "outputs": [],
      "source": [
        "%%R\n",
        "# Create an object\n",
        "x <- 12\n",
        "\n",
        "# Create a vector\n",
        "some_numbers <- c(0,1,2,3,4,5,6,7,8,9)"
      ]
    },
    {
      "cell_type": "markdown",
      "metadata": {
        "id": "H4D6yUBRwe41"
      },
      "source": [
        "1.3.2 Functions"
      ]
    },
    {
      "cell_type": "code",
      "execution_count": 4,
      "metadata": {
        "colab": {
          "base_uri": "https://localhost:8080/"
        },
        "id": "c4ygHt8FwiBM",
        "outputId": "8f99b540-749c-457e-99f1-35d42d58c119"
      },
      "outputs": [
        {
          "output_type": "stream",
          "name": "stdout",
          "text": [
            "[1] 4.5\n"
          ]
        }
      ],
      "source": [
        "%%R\n",
        "mean(some_numbers)"
      ]
    },
    {
      "cell_type": "markdown",
      "metadata": {
        "id": "ufLX0mMlwtCt"
      },
      "source": [
        "1.4 Packages"
      ]
    },
    {
      "cell_type": "code",
      "execution_count": null,
      "metadata": {
        "id": "JX2U_q_1wyuM"
      },
      "outputs": [],
      "source": [
        "%%R\n",
        "\n",
        "# to install a package\n",
        "install.packages('tidyverse')\n",
        "# to load a package\n",
        "library(tidyverse)"
      ]
    },
    {
      "cell_type": "markdown",
      "metadata": {
        "id": "p3QGciGKxRIc"
      },
      "source": [
        "1.5 R Markdown <br>\n",
        "R Markdown is a format for creating unified documents with R. Unlike the R script format introduced above, R Markdown allows you to combine code, its output, and text annotations in a single document"
      ]
    },
    {
      "cell_type": "markdown",
      "metadata": {
        "id": "Yq4Ajd0XxYw0"
      },
      "source": [
        "2.1 and 2.2 Packages and Loading Data\n"
      ]
    },
    {
      "cell_type": "code",
      "execution_count": 6,
      "metadata": {
        "id": "4MLDxs1gyVN9"
      },
      "outputs": [],
      "source": [
        "%%R\n",
        "# See installing packages above\n",
        "# To load file, specify exact file path for file\n",
        "paygap <- read.csv('/datalab/gender-paygap-2019.csv', header = TRUE)"
      ]
    },
    {
      "cell_type": "code",
      "execution_count": 7,
      "metadata": {
        "colab": {
          "base_uri": "https://localhost:8080/"
        },
        "id": "4wdOymes4t_b",
        "outputId": "30c6b813-fe32-4dcd-f977-2cf5f357149a"
      },
      "outputs": [
        {
          "output_type": "stream",
          "name": "stdout",
          "text": [
            "                                          EmployerName EmployerId\n",
            "1 'PRIFYSGOL ABERYSTWYTH' AND 'ABERYSTWYTH UNIVERSITY'      19070\n",
            "2                      \"Bryanston School\",Incorporated        676\n",
            "3                 \"RED BAND\" CHEMICAL COMPANY, LIMITED      16879\n",
            "4                                    123 EMPLOYEES LTD      17677\n",
            "5                                           1509 GROUP      15320\n",
            "                                                        Address PostCode\n",
            "1        Aberystwyth University, Penglais, Ceredigion, SY23 3FL SY23 3FL\n",
            "2                  Bryanston House, Blandford, Dorset, DT11 0PX DT11 0PX\n",
            "3              19 Smith's Place, Leith Walk, Edinburgh, EH6 8NU  EH6 8NU\n",
            "4                     34 Roundhay Road, Leeds, England, LS7 1AB  LS7 1AB\n",
            "5 Royal Grammar School, High Street, Guildford, Surrey, GU1 3BB  GU1 3BB\n",
            "  CompanyNumber      SicCodes DiffMeanHourlyPercent DiffMedianHourlyPercent\n",
            "1      RC000641                                12.3                     8.4\n",
            "2      00226143         85310                  19.6                    32.5\n",
            "3      SC016876         47730                   7.7                    -4.2\n",
            "4      10530651         78300                  30.0                    29.0\n",
            "5      04104101 85200,\\n85310                  13.4                    12.7\n",
            "  DiffMeanBonusPercent DiffMedianBonusPercent MaleBonusPercent\n",
            "1                   NA                     NA              0.0\n",
            "2                   NA                     NA              0.0\n",
            "3                 23.7                  -75.2             22.2\n",
            "4                -10.0                   69.0             46.0\n",
            "5                  0.0                    0.0              0.0\n",
            "  FemaleBonusPercent MaleLowerQuartile FemaleLowerQuartile\n",
            "1                  0              52.2                47.8\n",
            "2                  0              32.4                67.6\n",
            "3                 82              31.6                68.4\n",
            "4                 74               0.0               100.0\n",
            "5                  0              38.1                61.9\n",
            "  MaleLowerMiddleQuartile FemaleLowerMiddleQuartile MaleUpperMiddleQuartile\n",
            "1                    37.6                      62.4                    46.6\n",
            "2                    38.2                      61.8                    44.9\n",
            "3                    12.7                      87.3                    11.6\n",
            "4                     2.0                      98.0                    17.0\n",
            "5                    43.6                      56.4                    48.4\n",
            "  FemaleUpperMiddleQuartile MaleTopQuartile FemaleTopQuartile\n",
            "1                      53.4            63.7              36.3\n",
            "2                      55.1            53.3              46.7\n",
            "3                      88.4            20.3              79.7\n",
            "4                      83.0            25.0              75.0\n",
            "5                      51.6            61.3              38.7\n",
            "                                           CompanyLinkToGPGInfo\n",
            "1 https://www.aber.ac.uk/en/equality/genderpaygapreporting2019/\n",
            "2                        https://www.bryanston.co.uk/employment\n",
            "3                                                              \n",
            "4                                                              \n",
            "5                               https://www.rgs-guildford.co.uk\n",
            "                           ResponsiblePerson EmployerSize\n",
            "1       Elizabeth Treasure (Vice-Chancellor) 1000 to 4999\n",
            "2 Michael McGovern (Chief Operating Officer)   500 to 999\n",
            "3            Philip Galt (Managing Director)   250 to 499\n",
            "4         Chloe Lines (Financial Controller)   250 to 499\n",
            "5                     Kate Perceval (Bursar)   250 to 499\n",
            "                                           CurrentName\n",
            "1 'PRIFYSGOL ABERYSTWYTH' AND 'ABERYSTWYTH UNIVERSITY'\n",
            "2                        BRYANSTON SCHOOL INCORPORATED\n",
            "3                 \"RED BAND\" CHEMICAL COMPANY, LIMITED\n",
            "4                                    123 EMPLOYEES LTD\n",
            "5                                           1509 GROUP\n",
            "  SubmittedAfterTheDeadline             DueDate       DateSubmitted\n",
            "1                     False 2019/04/05 00:00:00 2019/04/03 12:55:59\n",
            "2                     False 2019/04/05 00:00:00 2019/04/03 13:43:34\n",
            "3                     False 2019/04/05 00:00:00 2019/04/01 12:37:21\n",
            "4                     False 2019/04/05 00:00:00 2019/04/03 15:43:17\n",
            "5                     False 2019/04/05 00:00:00 2019/03/18 14:03:16\n"
          ]
        }
      ],
      "source": [
        "%%R\n",
        "# Viewing Data\n",
        "head(paygap, n = 5) # view first 5 rows"
      ]
    },
    {
      "cell_type": "code",
      "execution_count": 8,
      "metadata": {
        "colab": {
          "base_uri": "https://localhost:8080/"
        },
        "id": "LB_bkNR3zA-b",
        "outputId": "678b4961-54dd-4e95-f504-11af1c229148"
      },
      "outputs": [
        {
          "output_type": "stream",
          "name": "stdout",
          "text": [
            " [1] \"EmployerName\"              \"EmployerId\"               \n",
            " [3] \"Address\"                   \"PostCode\"                 \n",
            " [5] \"CompanyNumber\"             \"SicCodes\"                 \n",
            " [7] \"DiffMeanHourlyPercent\"     \"DiffMedianHourlyPercent\"  \n",
            " [9] \"DiffMeanBonusPercent\"      \"DiffMedianBonusPercent\"   \n",
            "[11] \"MaleBonusPercent\"          \"FemaleBonusPercent\"       \n",
            "[13] \"MaleLowerQuartile\"         \"FemaleLowerQuartile\"      \n",
            "[15] \"MaleLowerMiddleQuartile\"   \"FemaleLowerMiddleQuartile\"\n",
            "[17] \"MaleUpperMiddleQuartile\"   \"FemaleUpperMiddleQuartile\"\n",
            "[19] \"MaleTopQuartile\"           \"FemaleTopQuartile\"        \n",
            "[21] \"CompanyLinkToGPGInfo\"      \"ResponsiblePerson\"        \n",
            "[23] \"EmployerSize\"              \"CurrentName\"              \n",
            "[25] \"SubmittedAfterTheDeadline\" \"DueDate\"                  \n",
            "[27] \"DateSubmitted\"            \n"
          ]
        }
      ],
      "source": [
        "%%R\n",
        "colnames(paygap) # see column names\n"
      ]
    },
    {
      "cell_type": "code",
      "execution_count": null,
      "metadata": {
        "colab": {
          "base_uri": "https://localhost:8080/"
        },
        "id": "m_mJ40km43p-",
        "outputId": "041e7056-944d-4e2d-9996-b4e8437f25a5"
      },
      "outputs": [
        {
          "name": "stdout",
          "output_type": "stream",
          "text": [
            "[1] 10466    27\n"
          ]
        }
      ],
      "source": [
        "%%R\n",
        "dim(paygap) # dimensions"
      ]
    },
    {
      "cell_type": "markdown",
      "metadata": {
        "id": "cJRHzhYa148M"
      },
      "source": [
        "2.3 Data Structures"
      ]
    },
    {
      "cell_type": "code",
      "execution_count": null,
      "metadata": {
        "colab": {
          "base_uri": "https://localhost:8080/"
        },
        "id": "JK_0_tLy4p1n",
        "outputId": "4be7dfa9-3d85-45b4-c25b-d82f13d7bc3b"
      },
      "outputs": [
        {
          "name": "stdout",
          "output_type": "stream",
          "text": [
            "[1] \"data.frame\"\n"
          ]
        }
      ],
      "source": [
        "%%R\n",
        "# Check data type\n",
        "class(paygap)"
      ]
    },
    {
      "cell_type": "code",
      "execution_count": null,
      "metadata": {
        "colab": {
          "base_uri": "https://localhost:8080/"
        },
        "id": "aTJEKSQ9zuKg",
        "outputId": "d59dff1c-7e7f-45a6-a337-89a91172bb2c"
      },
      "outputs": [
        {
          "name": "stdout",
          "output_type": "stream",
          "text": [
            "[1] \"numeric\"\n"
          ]
        }
      ],
      "source": [
        "%%R\n",
        "# Check for a column\n",
        "class(paygap$DiffMeanHourlyPercent)"
      ]
    },
    {
      "cell_type": "markdown",
      "metadata": {
        "id": "yDxYXY83302T"
      },
      "source": [
        "3.1 Wrangling Data\n",
        "Note: The cardiacdata dataset was not available for download from the website so the paygap dataset was used for exercises"
      ]
    },
    {
      "cell_type": "code",
      "execution_count": null,
      "metadata": {
        "colab": {
          "base_uri": "https://localhost:8080/"
        },
        "id": "Tjy0xHgv4mrF",
        "outputId": "481f321a-40e7-442d-fd93-205949510878"
      },
      "outputs": [
        {
          "name": "stdout",
          "output_type": "stream",
          "text": [
            "[1] \"Aberystwyth University, Penglais, Ceredigion, SY23 3FL\"\n"
          ]
        }
      ],
      "source": [
        "%%R\n",
        "# Indexing\n",
        "# extract element in first row, third column\n",
        "paygap[1,3]"
      ]
    },
    {
      "cell_type": "code",
      "execution_count": null,
      "metadata": {
        "colab": {
          "base_uri": "https://localhost:8080/"
        },
        "id": "WL1VsckD6yC9",
        "outputId": "690914ca-45a1-4a8b-ab31-41fc01f69914"
      },
      "outputs": [
        {
          "name": "stdout",
          "output_type": "stream",
          "text": [
            "                        EmployerName EmployerId\n",
            "5                         1509 GROUP      15320\n",
            "6                       1610 LIMITED        682\n",
            "7 1LIFE MANAGEMENT SOLUTIONS LIMITED        687\n",
            "                                                                             Address\n",
            "5                      Royal Grammar School, High Street, Guildford, Surrey, GU1 3BB\n",
            "6           Trinity Sports And Leisure, Chilton Street, Bridgwater, England, TA6 3JA\n",
            "7 Ldh House St Ives Business Park, Parsons Green, St. Ives, Cambridgeshire, PE27 4AA\n"
          ]
        }
      ],
      "source": [
        "%%R\n",
        "# extract rows 5-7 from columns 1-3\n",
        "paygap[5:7,1:3]"
      ]
    },
    {
      "cell_type": "code",
      "execution_count": 12,
      "metadata": {
        "id": "KNP9nwFh664c"
      },
      "outputs": [],
      "source": [
        "%%R\n",
        "# Extracting\n",
        "names <- paygap$EmployerName"
      ]
    },
    {
      "cell_type": "code",
      "execution_count": 11,
      "metadata": {
        "id": "7r-AbdSa7FHU"
      },
      "outputs": [],
      "source": [
        "%%R\n",
        "# Selecting Columns\n",
        "# select columns 'EmployerName' and 'EmployerId' and assign to new object 'employees'\n",
        "employees <- select(paygap, EmployerName, EmployerID)"
      ]
    },
    {
      "cell_type": "code",
      "execution_count": 10,
      "metadata": {
        "id": "VUPJtJMLF3LP"
      },
      "outputs": [],
      "source": [
        "%%R \n",
        "# Renaming Columns\n",
        "paygap <- rename(paygap, EmployerID = EmployerId)"
      ]
    },
    {
      "cell_type": "code",
      "execution_count": 13,
      "metadata": {
        "id": "bj1zIcsMgnHe"
      },
      "outputs": [],
      "source": [
        "%%R\n",
        "# Adding/Changing columns \n",
        "paygap <- mutate(paygap, DiffMeanHourlyDecimal = (DiffMeanHourlyPercent / 100))"
      ]
    },
    {
      "cell_type": "code",
      "execution_count": 14,
      "metadata": {
        "id": "L0J9V8AWiygJ"
      },
      "outputs": [],
      "source": [
        "%%R \n",
        "# Filtering Data\n",
        "paygap_filtered <- filter(paygap, DiffMedianBonusPercent > 50.0)"
      ]
    },
    {
      "cell_type": "markdown",
      "source": [
        "3.1.7 Piping <br>\n",
        "the pipe operator forwards (‘pipes’) the values on its left hand side into the expression(s) on its right hand side."
      ],
      "metadata": {
        "id": "ONGsvLbNog4V"
      }
    },
    {
      "cell_type": "code",
      "source": [
        "%%R\n",
        "# Piping\n",
        "paygap <- paygap %>%\n",
        "  filter(DiffMedianBonusPercent > 50.0) %>%\n",
        "  mutate(DiffMeanHourlyDecimal = (DiffMeanHourlyPercent / 100))"
      ],
      "metadata": {
        "id": "QymPVcuFoa_B"
      },
      "execution_count": 16,
      "outputs": []
    },
    {
      "cell_type": "code",
      "source": [
        "%%R\n",
        "# Group by\n",
        "paygap_byemployer <- paygap %>%\n",
        "  group_by(EmployerName) %>% \n",
        "  summarize(avg_diff = mean(DiffMeanHourlyPercent))"
      ],
      "metadata": {
        "id": "Pd_ewCrUo47_"
      },
      "execution_count": 23,
      "outputs": []
    },
    {
      "cell_type": "code",
      "source": [
        "%%R\n",
        "# Missing Data\n",
        "some_numbers <- c(4,5,6,7,NA,8)\n",
        "\n",
        "mean(some_numbers)\n",
        "mean(some_numbers, na.rm = TRUE)"
      ],
      "metadata": {
        "colab": {
          "base_uri": "https://localhost:8080/"
        },
        "id": "HQ_7tZoRphtW",
        "outputId": "a130180a-c717-4700-efe5-0226f0510611"
      },
      "execution_count": 24,
      "outputs": [
        {
          "output_type": "stream",
          "name": "stdout",
          "text": [
            "[1] 6\n"
          ]
        }
      ]
    },
    {
      "cell_type": "markdown",
      "source": [
        "3.2 Visualizing Data"
      ],
      "metadata": {
        "id": "7jJeanlppnV6"
      }
    },
    {
      "cell_type": "code",
      "source": [
        "%%R\n",
        "# Histogram basics\n",
        "ggplot(data = paygap, mapping = aes(x = DiffMeanHourlyPercent)) + \n",
        "  geom_histogram(bins = 20)"
      ],
      "metadata": {
        "colab": {
          "base_uri": "https://localhost:8080/",
          "height": 497
        },
        "id": "qmToAc2QpsZa",
        "outputId": "df0f475b-0185-4b52-87b0-c2a9a23fc81d"
      },
      "execution_count": 26,
      "outputs": [
        {
          "output_type": "display_data",
          "data": {
            "image/png": "[encoded data removed]"
          },
          "metadata": {}
        }
      ]
    },
    {
      "cell_type": "code",
      "source": [
        "%%R\n",
        "# Histogram- density plot\n",
        "ggplot(data = paygap, mapping = aes(x = DiffMeanHourlyPercent)) + \n",
        "  geom_histogram(bins = 20, aes(y = ..density..))"
      ],
      "metadata": {
        "colab": {
          "base_uri": "https://localhost:8080/",
          "height": 497
        },
        "id": "XEGK038nqV_A",
        "outputId": "bca0a73b-f134-47ad-c565-6318e521495a"
      },
      "execution_count": 27,
      "outputs": [
        {
          "output_type": "display_data",
          "data": {
            "image/png": "[encoded data removed]"
          },
          "metadata": {}
        }
      ]
    },
    {
      "cell_type": "code",
      "source": [
        "%%R\n",
        "# Histograms- aesthetics\n",
        "ggplot(data = paygap, mapping = aes(x = DiffMeanHourlyPercent)) + \n",
        "  geom_histogram(bins = 20, aes(y = ..density..), fill = 'lightblue') +\n",
        "  xlab('diff mean hourly percent') +\n",
        "  ggtitle('distribution of diff mean hourly percent') +\n",
        "  theme_light()"
      ],
      "metadata": {
        "colab": {
          "base_uri": "https://localhost:8080/",
          "height": 497
        },
        "id": "aU1vzuNfqkth",
        "outputId": "ddd4c3bc-3a84-4984-c55c-61f2813a0497"
      },
      "execution_count": 29,
      "outputs": [
        {
          "output_type": "display_data",
          "data": {
            "image/png": "[encoded data removed]"
          },
          "metadata": {}
        }
      ]
    },
    {
      "cell_type": "code",
      "source": [
        "%%R\n",
        "# Scatterplots\n",
        "ggplot(data = paygap, mapping = aes(x = EmployerID, y = DiffMeanHourlyPercent)) + \n",
        "  geom_point() +\n",
        "  theme_light()"
      ],
      "metadata": {
        "colab": {
          "base_uri": "https://localhost:8080/",
          "height": 497
        },
        "id": "N6qkqlvcqyDv",
        "outputId": "a462fff8-633f-4bef-c55e-31b920706075"
      },
      "execution_count": 31,
      "outputs": [
        {
          "output_type": "display_data",
          "data": {
            "image/png": "[encoded data removed]"
          },
          "metadata": {}
        }
      ]
    },
    {
      "cell_type": "code",
      "source": [
        "%%R\n",
        "# Boxplot\n",
        "ggplot(data = paygap, mapping = aes(x = EmployerID , y = DiffMeanHourlyPercent)) +\n",
        "  geom_boxplot() +\n",
        "  xlab('EmployerID') +\n",
        "  ylab('diff mean hourly percent') +\n",
        "  theme_light()"
      ],
      "metadata": {
        "colab": {
          "base_uri": "https://localhost:8080/",
          "height": 497
        },
        "id": "dSnVlTdGrVu6",
        "outputId": "ecfaae74-cfab-474a-b82f-370331267491"
      },
      "execution_count": 34,
      "outputs": [
        {
          "output_type": "display_data",
          "data": {
            "image/png": "[encoded data removed]"
          },
          "metadata": {}
        }
      ]
    }
  ],
  "metadata": {
    "colab": {
      "provenance": [],
      "authorship_tag": "ABX9TyPvWifi30JT+UkXCXVPIyga",
      "include_colab_link": true
    },
    "kernelspec": {
      "display_name": "Python 3",
      "name": "python3"
    },
    "language_info": {
      "name": "python"
    }
  },
  "nbformat": 4,
  "nbformat_minor": 0
}