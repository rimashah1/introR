{
  "nbformat": 4,
  "nbformat_minor": 0,
  "metadata": {
    "colab": {
      "provenance": [],
      "authorship_tag": "ABX9TyN8+DFPvIu9Cf5pU+6o6US0",
      "include_colab_link": true
    },
    "kernelspec": {
      "name": "python3",
      "display_name": "Python 3"
    },
    "language_info": {
      "name": "python"
    }
  },
  "cells": [
    {
      "cell_type": "markdown",
      "metadata": {
        "id": "view-in-github",
        "colab_type": "text"
      },
      "source": [
        "<a href=\"https://colab.research.google.com/github/rimashah1/introR/blob/main/bookbrown.ipynb\" target=\"_parent\"><img src=\"https://colab.research.google.com/assets/colab-badge.svg\" alt=\"Open In Colab\"/></a>"
      ]
    },
    {
      "cell_type": "code",
      "execution_count": null,
      "metadata": {
        "colab": {
          "base_uri": "https://localhost:8080/"
        },
        "id": "hJkJtLzHtfPh",
        "outputId": "b8dbb2ab-b859-4d26-c9c0-3850a71e4dd1"
      },
      "outputs": [
        {
          "output_type": "stream",
          "name": "stdout",
          "text": [
            "Looking in indexes: https://pypi.org/simple, https://us-python.pkg.dev/colab-wheels/public/simple/\n",
            "Requirement already satisfied: rpy2 in /usr/local/lib/python3.7/dist-packages (3.4.5)\n",
            "Requirement already satisfied: tzlocal in /usr/local/lib/python3.7/dist-packages (from rpy2) (1.5.1)\n",
            "Requirement already satisfied: jinja2 in /usr/local/lib/python3.7/dist-packages (from rpy2) (2.11.3)\n",
            "Requirement already satisfied: cffi>=1.10.0 in /usr/local/lib/python3.7/dist-packages (from rpy2) (1.15.1)\n",
            "Requirement already satisfied: pytz in /usr/local/lib/python3.7/dist-packages (from rpy2) (2022.4)\n",
            "Requirement already satisfied: pycparser in /usr/local/lib/python3.7/dist-packages (from cffi>=1.10.0->rpy2) (2.21)\n",
            "Requirement already satisfied: MarkupSafe>=0.23 in /usr/local/lib/python3.7/dist-packages (from jinja2->rpy2) (2.0.1)\n"
          ]
        }
      ],
      "source": [
        "pip install rpy2\n"
      ]
    },
    {
      "cell_type": "code",
      "source": [
        "%load_ext rpy2.ipython"
      ],
      "metadata": {
        "id": "oahg-xRWuf31"
      },
      "execution_count": null,
      "outputs": []
    },
    {
      "cell_type": "markdown",
      "source": [
        "1.3.1 Variables"
      ],
      "metadata": {
        "id": "cttuLiZAv9Go"
      }
    },
    {
      "cell_type": "code",
      "source": [
        "%%R\n",
        "# Create an object\n",
        "x <- 12\n",
        "\n",
        "# Create a vector\n",
        "some_numbers <- c(0,1,2,3,4,5,6,7,8,9)"
      ],
      "metadata": {
        "id": "Dp6RplYgwAjg"
      },
      "execution_count": null,
      "outputs": []
    },
    {
      "cell_type": "markdown",
      "source": [
        "1.3.2 Functions"
      ],
      "metadata": {
        "id": "H4D6yUBRwe41"
      }
    },
    {
      "cell_type": "code",
      "source": [
        "%%R\n",
        "mean(some_numbers)"
      ],
      "metadata": {
        "colab": {
          "base_uri": "https://localhost:8080/"
        },
        "id": "c4ygHt8FwiBM",
        "outputId": "ad2ca10a-8462-40a4-c9e7-970cade6bade"
      },
      "execution_count": null,
      "outputs": [
        {
          "output_type": "stream",
          "name": "stdout",
          "text": [
            "[1] 4.5\n"
          ]
        }
      ]
    },
    {
      "cell_type": "markdown",
      "source": [
        "1.4 Packages"
      ],
      "metadata": {
        "id": "ufLX0mMlwtCt"
      }
    },
    {
      "cell_type": "code",
      "source": [
        "%%R\n",
        "\n",
        "# to install a package\n",
        "install.packages('tidyverse')\n",
        "# to load a package\n",
        "library(tidyverse)"
      ],
      "metadata": {
        "colab": {
          "base_uri": "https://localhost:8080/"
        },
        "id": "JX2U_q_1wyuM",
        "outputId": "5c4383a9-2cca-4a07-96bf-7c7471683874"
      },
      "execution_count": null,
      "outputs": [
        {
          "output_type": "stream",
          "name": "stderr",
          "text": [
            "WARNING:rpy2.rinterface_lib.callbacks:R[write to console]: Installing package into ‘/usr/local/lib/R/site-library’\n",
            "(as ‘lib’ is unspecified)\n",
            "\n",
            "WARNING:rpy2.rinterface_lib.callbacks:R[write to console]: trying URL 'https://cran.rstudio.com/src/contrib/tidyverse_1.3.2.tar.gz'\n",
            "\n",
            "WARNING:rpy2.rinterface_lib.callbacks:R[write to console]: Content type 'application/x-gzip'\n",
            "WARNING:rpy2.rinterface_lib.callbacks:R[write to console]:  length 702514 bytes (686 KB)\n",
            "\n",
            "WARNING:rpy2.rinterface_lib.callbacks:R[write to console]: =\n",
            "WARNING:rpy2.rinterface_lib.callbacks:R[write to console]: =\n",
            "WARNING:rpy2.rinterface_lib.callbacks:R[write to console]: =\n",
            "WARNING:rpy2.rinterface_lib.callbacks:R[write to console]: =\n",
            "WARNING:rpy2.rinterface_lib.callbacks:R[write to console]: =\n",
            "WARNING:rpy2.rinterface_lib.callbacks:R[write to console]: =\n",
            "WARNING:rpy2.rinterface_lib.callbacks:R[write to console]: =\n",
            "WARNING:rpy2.rinterface_lib.callbacks:R[write to console]: =\n",
            "WARNING:rpy2.rinterface_lib.callbacks:R[write to console]: =\n",
            "WARNING:rpy2.rinterface_lib.callbacks:R[write to console]: =\n",
            "WARNING:rpy2.rinterface_lib.callbacks:R[write to console]: =\n",
            "WARNING:rpy2.rinterface_lib.callbacks:R[write to console]: =\n",
            "WARNING:rpy2.rinterface_lib.callbacks:R[write to console]: =\n",
            "WARNING:rpy2.rinterface_lib.callbacks:R[write to console]: =\n",
            "WARNING:rpy2.rinterface_lib.callbacks:R[write to console]: =\n",
            "WARNING:rpy2.rinterface_lib.callbacks:R[write to console]: =\n",
            "WARNING:rpy2.rinterface_lib.callbacks:R[write to console]: =\n",
            "WARNING:rpy2.rinterface_lib.callbacks:R[write to console]: =\n",
            "WARNING:rpy2.rinterface_lib.callbacks:R[write to console]: =\n",
            "WARNING:rpy2.rinterface_lib.callbacks:R[write to console]: =\n",
            "WARNING:rpy2.rinterface_lib.callbacks:R[write to console]: =\n",
            "WARNING:rpy2.rinterface_lib.callbacks:R[write to console]: =\n",
            "WARNING:rpy2.rinterface_lib.callbacks:R[write to console]: =\n",
            "WARNING:rpy2.rinterface_lib.callbacks:R[write to console]: =\n",
            "WARNING:rpy2.rinterface_lib.callbacks:R[write to console]: =\n",
            "WARNING:rpy2.rinterface_lib.callbacks:R[write to console]: =\n",
            "WARNING:rpy2.rinterface_lib.callbacks:R[write to console]: =\n",
            "WARNING:rpy2.rinterface_lib.callbacks:R[write to console]: =\n",
            "WARNING:rpy2.rinterface_lib.callbacks:R[write to console]: =\n",
            "WARNING:rpy2.rinterface_lib.callbacks:R[write to console]: =\n",
            "WARNING:rpy2.rinterface_lib.callbacks:R[write to console]: =\n",
            "WARNING:rpy2.rinterface_lib.callbacks:R[write to console]: =\n",
            "WARNING:rpy2.rinterface_lib.callbacks:R[write to console]: =\n",
            "WARNING:rpy2.rinterface_lib.callbacks:R[write to console]: =\n",
            "WARNING:rpy2.rinterface_lib.callbacks:R[write to console]: =\n",
            "WARNING:rpy2.rinterface_lib.callbacks:R[write to console]: =\n",
            "WARNING:rpy2.rinterface_lib.callbacks:R[write to console]: =\n",
            "WARNING:rpy2.rinterface_lib.callbacks:R[write to console]: =\n",
            "WARNING:rpy2.rinterface_lib.callbacks:R[write to console]: =\n",
            "WARNING:rpy2.rinterface_lib.callbacks:R[write to console]: =\n",
            "WARNING:rpy2.rinterface_lib.callbacks:R[write to console]: =\n",
            "WARNING:rpy2.rinterface_lib.callbacks:R[write to console]: =\n",
            "WARNING:rpy2.rinterface_lib.callbacks:R[write to console]: =\n",
            "WARNING:rpy2.rinterface_lib.callbacks:R[write to console]: =\n",
            "WARNING:rpy2.rinterface_lib.callbacks:R[write to console]: =\n",
            "WARNING:rpy2.rinterface_lib.callbacks:R[write to console]: =\n",
            "WARNING:rpy2.rinterface_lib.callbacks:R[write to console]: =\n",
            "WARNING:rpy2.rinterface_lib.callbacks:R[write to console]: =\n",
            "WARNING:rpy2.rinterface_lib.callbacks:R[write to console]: =\n",
            "WARNING:rpy2.rinterface_lib.callbacks:R[write to console]: =\n",
            "WARNING:rpy2.rinterface_lib.callbacks:R[write to console]: \n",
            "\n",
            "WARNING:rpy2.rinterface_lib.callbacks:R[write to console]: downloaded 686 KB\n",
            "\n",
            "\n",
            "WARNING:rpy2.rinterface_lib.callbacks:R[write to console]: \n",
            "\n",
            "WARNING:rpy2.rinterface_lib.callbacks:R[write to console]: \n",
            "WARNING:rpy2.rinterface_lib.callbacks:R[write to console]: The downloaded source packages are in\n",
            "\t‘/tmp/RtmpvmLu2d/downloaded_packages’\n",
            "WARNING:rpy2.rinterface_lib.callbacks:R[write to console]: \n",
            "WARNING:rpy2.rinterface_lib.callbacks:R[write to console]: \n",
            "\n"
          ]
        },
        {
          "output_type": "stream",
          "name": "stdout",
          "text": [
            "── Attaching packages ─────────────────────────────────────── tidyverse 1.3.2 ──\n",
            "✔ ggplot2 3.3.6      ✔ purrr   0.3.5 \n",
            "✔ tibble  3.1.7      ✔ dplyr   1.0.10\n",
            "✔ tidyr   1.2.1      ✔ stringr 1.4.1 \n",
            "✔ readr   2.1.3      ✔ forcats 0.5.2 \n",
            "── Conflicts ────────────────────────────────────────── tidyverse_conflicts() ──\n",
            "✖ dplyr::filter() masks stats::filter()\n",
            "✖ dplyr::lag()    masks stats::lag()\n"
          ]
        }
      ]
    },
    {
      "cell_type": "markdown",
      "source": [
        "1.5 R Markdown <br>\n",
        "R Markdown is a format for creating unified documents with R. Unlike the R script format introduced above, R Markdown allows you to combine code, its output, and text annotations in a single document"
      ],
      "metadata": {
        "id": "p3QGciGKxRIc"
      }
    },
    {
      "cell_type": "markdown",
      "source": [
        "2.1 and 2.2 Packages and Loading Data\n"
      ],
      "metadata": {
        "id": "Yq4Ajd0XxYw0"
      }
    },
    {
      "cell_type": "code",
      "source": [
        "%%R\n",
        "# See installing packages above\n",
        "# To load file, specify exact file path for file\n",
        "paygap <- read.csv('/datalab/data/gender-paygap-2019.csv', header = TRUE)"
      ],
      "metadata": {
        "id": "4MLDxs1gyVN9"
      },
      "execution_count": 30,
      "outputs": []
    },
    {
      "cell_type": "code",
      "source": [
        "%%R\n",
        "# Viewing Data\n",
        "head(paygap, n = 5) # view first 5 rows"
      ],
      "metadata": {
        "colab": {
          "base_uri": "https://localhost:8080/"
        },
        "id": "4wdOymes4t_b",
        "outputId": "825064a2-fb06-41fb-f87d-9a7d5b24adee"
      },
      "execution_count": 42,
      "outputs": [
        {
          "output_type": "stream",
          "name": "stdout",
          "text": [
            "                                          EmployerName EmployerId\n",
            "1 'PRIFYSGOL ABERYSTWYTH' AND 'ABERYSTWYTH UNIVERSITY'      19070\n",
            "2                      \"Bryanston School\",Incorporated        676\n",
            "3                 \"RED BAND\" CHEMICAL COMPANY, LIMITED      16879\n",
            "4                                    123 EMPLOYEES LTD      17677\n",
            "5                                           1509 GROUP      15320\n",
            "                                                        Address PostCode\n",
            "1        Aberystwyth University, Penglais, Ceredigion, SY23 3FL SY23 3FL\n",
            "2                  Bryanston House, Blandford, Dorset, DT11 0PX DT11 0PX\n",
            "3              19 Smith's Place, Leith Walk, Edinburgh, EH6 8NU  EH6 8NU\n",
            "4                     34 Roundhay Road, Leeds, England, LS7 1AB  LS7 1AB\n",
            "5 Royal Grammar School, High Street, Guildford, Surrey, GU1 3BB  GU1 3BB\n",
            "  CompanyNumber      SicCodes DiffMeanHourlyPercent DiffMedianHourlyPercent\n",
            "1      RC000641                                12.3                     8.4\n",
            "2      00226143         85310                  19.6                    32.5\n",
            "3      SC016876         47730                   7.7                    -4.2\n",
            "4      10530651         78300                  30.0                    29.0\n",
            "5      04104101 85200,\\n85310                  13.4                    12.7\n",
            "  DiffMeanBonusPercent DiffMedianBonusPercent MaleBonusPercent\n",
            "1                   NA                     NA              0.0\n",
            "2                   NA                     NA              0.0\n",
            "3                 23.7                  -75.2             22.2\n",
            "4                -10.0                   69.0             46.0\n",
            "5                  0.0                    0.0              0.0\n",
            "  FemaleBonusPercent MaleLowerQuartile FemaleLowerQuartile\n",
            "1                  0              52.2                47.8\n",
            "2                  0              32.4                67.6\n",
            "3                 82              31.6                68.4\n",
            "4                 74               0.0               100.0\n",
            "5                  0              38.1                61.9\n",
            "  MaleLowerMiddleQuartile FemaleLowerMiddleQuartile MaleUpperMiddleQuartile\n",
            "1                    37.6                      62.4                    46.6\n",
            "2                    38.2                      61.8                    44.9\n",
            "3                    12.7                      87.3                    11.6\n",
            "4                     2.0                      98.0                    17.0\n",
            "5                    43.6                      56.4                    48.4\n",
            "  FemaleUpperMiddleQuartile MaleTopQuartile FemaleTopQuartile\n",
            "1                      53.4            63.7              36.3\n",
            "2                      55.1            53.3              46.7\n",
            "3                      88.4            20.3              79.7\n",
            "4                      83.0            25.0              75.0\n",
            "5                      51.6            61.3              38.7\n",
            "                                           CompanyLinkToGPGInfo\n",
            "1 https://www.aber.ac.uk/en/equality/genderpaygapreporting2019/\n",
            "2                        https://www.bryanston.co.uk/employment\n",
            "3                                                              \n",
            "4                                                              \n",
            "5                               https://www.rgs-guildford.co.uk\n",
            "                           ResponsiblePerson EmployerSize\n",
            "1       Elizabeth Treasure (Vice-Chancellor) 1000 to 4999\n",
            "2 Michael McGovern (Chief Operating Officer)   500 to 999\n",
            "3            Philip Galt (Managing Director)   250 to 499\n",
            "4         Chloe Lines (Financial Controller)   250 to 499\n",
            "5                     Kate Perceval (Bursar)   250 to 499\n",
            "                                           CurrentName\n",
            "1 'PRIFYSGOL ABERYSTWYTH' AND 'ABERYSTWYTH UNIVERSITY'\n",
            "2                        BRYANSTON SCHOOL INCORPORATED\n",
            "3                 \"RED BAND\" CHEMICAL COMPANY, LIMITED\n",
            "4                                    123 EMPLOYEES LTD\n",
            "5                                           1509 GROUP\n",
            "  SubmittedAfterTheDeadline             DueDate       DateSubmitted\n",
            "1                     False 2019/04/05 00:00:00 2019/04/03 12:55:59\n",
            "2                     False 2019/04/05 00:00:00 2019/04/03 13:43:34\n",
            "3                     False 2019/04/05 00:00:00 2019/04/01 12:37:21\n",
            "4                     False 2019/04/05 00:00:00 2019/04/03 15:43:17\n",
            "5                     False 2019/04/05 00:00:00 2019/03/18 14:03:16\n"
          ]
        }
      ]
    },
    {
      "cell_type": "code",
      "source": [
        "%%R\n",
        "colnames(paygap) # see column names\n"
      ],
      "metadata": {
        "colab": {
          "base_uri": "https://localhost:8080/"
        },
        "id": "LB_bkNR3zA-b",
        "outputId": "798168f1-bb2a-4774-bf80-94d0aaf7ed43"
      },
      "execution_count": 43,
      "outputs": [
        {
          "output_type": "stream",
          "name": "stdout",
          "text": [
            " [1] \"EmployerName\"              \"EmployerId\"               \n",
            " [3] \"Address\"                   \"PostCode\"                 \n",
            " [5] \"CompanyNumber\"             \"SicCodes\"                 \n",
            " [7] \"DiffMeanHourlyPercent\"     \"DiffMedianHourlyPercent\"  \n",
            " [9] \"DiffMeanBonusPercent\"      \"DiffMedianBonusPercent\"   \n",
            "[11] \"MaleBonusPercent\"          \"FemaleBonusPercent\"       \n",
            "[13] \"MaleLowerQuartile\"         \"FemaleLowerQuartile\"      \n",
            "[15] \"MaleLowerMiddleQuartile\"   \"FemaleLowerMiddleQuartile\"\n",
            "[17] \"MaleUpperMiddleQuartile\"   \"FemaleUpperMiddleQuartile\"\n",
            "[19] \"MaleTopQuartile\"           \"FemaleTopQuartile\"        \n",
            "[21] \"CompanyLinkToGPGInfo\"      \"ResponsiblePerson\"        \n",
            "[23] \"EmployerSize\"              \"CurrentName\"              \n",
            "[25] \"SubmittedAfterTheDeadline\" \"DueDate\"                  \n",
            "[27] \"DateSubmitted\"            \n"
          ]
        }
      ]
    },
    {
      "cell_type": "code",
      "source": [
        "%%R\n",
        "dim(paygap) # dimensions"
      ],
      "metadata": {
        "colab": {
          "base_uri": "https://localhost:8080/"
        },
        "id": "m_mJ40km43p-",
        "outputId": "33cdb280-4692-435c-b0fd-baf608192128"
      },
      "execution_count": 46,
      "outputs": [
        {
          "output_type": "stream",
          "name": "stdout",
          "text": [
            "[1] 10466    27\n"
          ]
        }
      ]
    },
    {
      "cell_type": "markdown",
      "source": [
        "2.3 Data Structures"
      ],
      "metadata": {
        "id": "cJRHzhYa148M"
      }
    },
    {
      "cell_type": "code",
      "source": [
        "%%R\n",
        "# Check data type\n",
        "class(paygap)"
      ],
      "metadata": {
        "colab": {
          "base_uri": "https://localhost:8080/"
        },
        "id": "JK_0_tLy4p1n",
        "outputId": "87a43bfb-2de7-4af6-ce2d-c68906145a72"
      },
      "execution_count": 41,
      "outputs": [
        {
          "output_type": "stream",
          "name": "stdout",
          "text": [
            "[1] \"data.frame\"\n"
          ]
        }
      ]
    },
    {
      "cell_type": "code",
      "source": [
        "%%R\n",
        "# Check for a column\n",
        "class(paygap$DiffMeanHourlyPercent)"
      ],
      "metadata": {
        "colab": {
          "base_uri": "https://localhost:8080/"
        },
        "id": "aTJEKSQ9zuKg",
        "outputId": "2a97bf0d-47f1-4d38-a0ff-33a723d40623"
      },
      "execution_count": 38,
      "outputs": [
        {
          "output_type": "stream",
          "name": "stdout",
          "text": [
            "[1] \"numeric\"\n"
          ]
        }
      ]
    },
    {
      "cell_type": "markdown",
      "source": [
        "3.1 Wrangling Data\n",
        "Note: The cardiacdata dataset was not available for download from the website so the paygap dataset was used for exercises"
      ],
      "metadata": {
        "id": "yDxYXY83302T"
      }
    },
    {
      "cell_type": "code",
      "source": [
        "%%R\n",
        "# Indexing\n",
        "# extract element in first row, third column\n",
        "paygap[1,3]"
      ],
      "metadata": {
        "colab": {
          "base_uri": "https://localhost:8080/"
        },
        "id": "Tjy0xHgv4mrF",
        "outputId": "c01ee2dc-b9f9-4a9b-ccbd-fd78497a530a"
      },
      "execution_count": 50,
      "outputs": [
        {
          "output_type": "stream",
          "name": "stdout",
          "text": [
            "[1] \"Aberystwyth University, Penglais, Ceredigion, SY23 3FL\"\n"
          ]
        }
      ]
    },
    {
      "cell_type": "code",
      "source": [
        "%%R\n",
        "# extract rows 5-7 from columns 1-3\n",
        "paygap[5:7,1:3]"
      ],
      "metadata": {
        "colab": {
          "base_uri": "https://localhost:8080/"
        },
        "id": "WL1VsckD6yC9",
        "outputId": "543cae8c-d9ad-447e-9d5a-404310f28ee3"
      },
      "execution_count": 51,
      "outputs": [
        {
          "output_type": "stream",
          "name": "stdout",
          "text": [
            "                        EmployerName EmployerId\n",
            "5                         1509 GROUP      15320\n",
            "6                       1610 LIMITED        682\n",
            "7 1LIFE MANAGEMENT SOLUTIONS LIMITED        687\n",
            "                                                                             Address\n",
            "5                      Royal Grammar School, High Street, Guildford, Surrey, GU1 3BB\n",
            "6           Trinity Sports And Leisure, Chilton Street, Bridgwater, England, TA6 3JA\n",
            "7 Ldh House St Ives Business Park, Parsons Green, St. Ives, Cambridgeshire, PE27 4AA\n"
          ]
        }
      ]
    },
    {
      "cell_type": "code",
      "source": [
        "%%R\n",
        "# Extracting\n",
        "names <- paygap$EmployerName"
      ],
      "metadata": {
        "colab": {
          "base_uri": "https://localhost:8080/"
        },
        "id": "KNP9nwFh664c",
        "outputId": "e292db16-d120-4410-c5bb-d52d7679c974"
      },
      "execution_count": 1,
      "outputs": [
        {
          "output_type": "stream",
          "name": "stderr",
          "text": [
            "UsageError: Cell magic `%%R` not found.\n"
          ]
        }
      ]
    },
    {
      "cell_type": "code",
      "source": [
        "%%R\n",
        "# Selecting Columns\n",
        "# select columns 'EmployerName' and 'EmployerId' and assign to new object 'employees'\n",
        "employees <- select(paygap, EmployerName, EmployerId)"
      ],
      "metadata": {
        "colab": {
          "base_uri": "https://localhost:8080/"
        },
        "id": "7r-AbdSa7FHU",
        "outputId": "fca11ffd-76d4-4c0f-cce1-ba77e889c08d"
      },
      "execution_count": 2,
      "outputs": [
        {
          "output_type": "stream",
          "name": "stderr",
          "text": [
            "UsageError: Cell magic `%%R` not found.\n"
          ]
        }
      ]
    },
    {
      "cell_type": "code",
      "source": [
        "%%R \n",
        "# Renaming Columns\n",
        "paygap <- rename(paygap, EmployerID = EmployerId)"
      ],
      "metadata": {
        "colab": {
          "base_uri": "https://localhost:8080/"
        },
        "id": "VUPJtJMLF3LP",
        "outputId": "70205d86-427f-44e3-8d0a-024e1d0d25ef"
      },
      "execution_count": 1,
      "outputs": [
        {
          "output_type": "stream",
          "name": "stderr",
          "text": [
            "UsageError: Cell magic `%%R` not found.\n"
          ]
        }
      ]
    },
    {
      "cell_type": "code",
      "source": [],
      "metadata": {
        "id": "1pwUEWIzxD1q"
      },
      "execution_count": null,
      "outputs": []
    },
    {
      "cell_type": "code",
      "source": [],
      "metadata": {
        "id": "mVajEc8PF4i6"
      },
      "execution_count": null,
      "outputs": []
    },
    {
      "cell_type": "code",
      "source": [],
      "metadata": {
        "id": "3CE7N01HxXCz"
      },
      "execution_count": null,
      "outputs": []
    }
  ]
}